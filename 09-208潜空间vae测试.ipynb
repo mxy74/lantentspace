{
 "cells": [
  {
   "cell_type": "markdown",
   "metadata": {},
   "source": [
    "#### vae https://github.com/AntixK/PyTorch-VAE/blob/8700d245a9735640dda458db4cf40708caf2e77f/models/vanilla_vae.py"
   ]
  },
  {
   "cell_type": "code",
   "execution_count": 1,
   "metadata": {},
   "outputs": [],
   "source": [
    "from torch import nn\n",
    "from abc import abstractmethod\n",
    "from typing import List, Callable, Union, Any, TypeVar, Tuple\n",
    "import sys\n",
    "# from torch import tensor as Tensor\n",
    "\n",
    "Tensor = TypeVar('torch.tensor')\n",
    "\n",
    "class BaseVAE(nn.Module):\n",
    "    \n",
    "    def __init__(self) -> None:\n",
    "        super(BaseVAE, self).__init__()\n",
    "\n",
    "    def encode(self, input: Tensor) -> List[Tensor]:\n",
    "        raise NotImplementedError\n",
    "\n",
    "    def decode(self, input: Tensor) -> Any:\n",
    "        raise NotImplementedError\n",
    "\n",
    "    def sample(self, batch_size:int, current_device: int, **kwargs) -> Tensor:\n",
    "        raise RuntimeWarning()\n",
    "\n",
    "    def generate(self, x: Tensor, **kwargs) -> Tensor:\n",
    "        raise NotImplementedError\n",
    "\n",
    "    @abstractmethod\n",
    "    def forward(self, *inputs: Tensor) -> Tensor:\n",
    "        pass\n",
    "\n",
    "    @abstractmethod\n",
    "    def loss_function(self, *inputs: Any, **kwargs) -> Tensor:\n",
    "        pass\n",
    "\n",
    "import torch\n",
    "from torch import nn\n",
    "from torch.nn import functional as F\n",
    "\n",
    "dict_vae = {\n",
    "    \"0\":[256, 256, 256, 256, 512, 512], #vae0\n",
    "    \"1\":[256, 256, 256, 256, 512, 512, 1024], #vae1\n",
    "    \"2\":[256, 256, 256, 256, 512, 512, 1024, 1024], #vae2\n",
    "    \"3\":[256, 256, 256, 256, 512, 512, 1024], #vae3\n",
    "    \"10\":[256, 256, 512, 512, 512, 1024, 1024], # vae10 新的开始\n",
    "    \"11\":[512, 512, 512, 512, 512, 512, 1024], # vae11 新的开始\n",
    "    \"12\":[512, 512, 512, 512, 512, 512, 1024], # vae12 新的开始 batch_size为512\n",
    "    \"13\":[512, 512, 512, 512, 512, 512, 1024], # vae13 新的开始 batch_size为1024\n",
    "    \"14\":[512, 512, 512, 512, 512, 512, 1024], # vae14 新的开始 batch_size为2048\n",
    "    \"15\":[512, 512, 512, 512, 512, 512, 1024], # vae15 新的开始 batch_size为2048, 将kl散度较14缩小10倍，即kl_alf= batch_size / 50000 / 10\n",
    "    \"16\":[512, 512, 512, 512, 512, 512, 1024], # vae16 新的开始 batch_size为2048, 将kl散度较14缩小20倍，即kl_alf= batch_size / 50000 / 10 / 2\n",
    "    \"17\":[1024, 1024, 1024, 1024, 1024, 1024, 1024], # 从17开始，epoch都是200，vae17 batch_size为2048, kl_alf= batch_size / 50000 / 10 / 2\n",
    "    \"18\":[1024, 1024, 1024, 1024, 1024, 1024, 2048], # vae18 batch_size为2048, kl_alf= batch_size / 50000 / 10 / 2\n",
    "    \"19\":[2048, 2048, 2048, 2048, 2048, 2048, 2048], # vae19 batch_size为2048, kl_alf= batch_size / 50000 if条件那里没改过来所以，kl权重没有除以20\n",
    "    \"20\":[2048, 2048, 1024, 1024, 1024, 2048, 2048], # vae20 batch_size为2048, kl_alf= batch_size / 50000 / 10 / 2\n",
    "    \"21\":[1024, 1024, 1024, 1024, 1024, 1024, 2048, 1024, 1024, 1024, 1024, 1024, 1024, 2048], # vae21 batch_size为2048, kl_alf= batch_size / 50000 / 10 / 2\n",
    "    \"22\":[1024, 1024, 1024, 1024, 1024, 1024, 2048, 1024, 1024, 1024, 1024, 1024, 1024, 2048], # vae22，这个batch_size再调小一点kl_alf= batch_size / 50000 / 40\n",
    "    \"23\":[1024, 1024, 1024, 1024, 1024, 1024, 2048, 1024, 1024, 1024, 1024, 1024, 1024, 2048], # vae23，这个batch_size再调小一点kl_alf= batch_size / 50000 / 80\n",
    "    \"24\":[1024, 1024, 1024, 1024, 1024, 1024, 2048, 1024, 1024, 1024, 1024, 1024, 1024, 2048], # vae24，这个batch_size再调小一点kl_alf= batch_size / 50000 / 160\n",
    "    \"25\":[1024, 1024, 1024, 1024, 1024, 1024, 2048, 1024, 1024, 1024, 1024, 1024, 1024, 2048], # vae25，这个batch_size再调小一点kl_alf= batch_size / 50000 / 1600\n",
    "}\n",
    "\n",
    "class VanillaVAE(BaseVAE):\n",
    "\n",
    "\n",
    "    def __init__(self,\n",
    "                 in_features: int,\n",
    "                 latent_dim: int,\n",
    "                 hidden_dims: List = None,\n",
    "                 hidden_id: str = None,\n",
    "                 **kwargs) -> None:\n",
    "        super(VanillaVAE, self).__init__()\n",
    "\n",
    "        self.latent_dim = latent_dim\n",
    "\n",
    "        if hidden_dims is None:\n",
    "            hidden_dims = dict_vae[hidden_id]\n",
    "\n",
    "\n",
    "\n",
    "        # Build Encoder\n",
    "        modules = []\n",
    "        \n",
    "        for h_dim in hidden_dims:\n",
    "            modules.append(\n",
    "                nn.Sequential(\n",
    "                    nn.Linear(in_features=in_features, out_features=h_dim),\n",
    "                    nn.LeakyReLU())\n",
    "            )\n",
    "            in_features = h_dim\n",
    "\n",
    "        self.encoder = nn.Sequential(*modules)\n",
    "        self.fc_mu = nn.Linear(hidden_dims[-1], latent_dim)\n",
    "        self.fc_var = nn.Linear(hidden_dims[-1], latent_dim)\n",
    "\n",
    "\n",
    "        # Build Decoder\n",
    "        modules = []\n",
    "\n",
    "        self.decoder_input = nn.Linear(latent_dim, hidden_dims[-1])\n",
    "\n",
    "        hidden_dims.reverse() #数组反转\n",
    "        in_features = hidden_dims[0]\n",
    "        for h_dim in hidden_dims:\n",
    "            modules.append(\n",
    "                nn.Sequential(\n",
    "                    nn.Linear(in_features=in_features, out_features=h_dim),\n",
    "                    nn.LeakyReLU())\n",
    "            )\n",
    "            in_features = h_dim\n",
    "            \n",
    "\n",
    "        self.decoder = nn.Sequential(*modules)\n",
    "\n",
    "        self.final_layer = nn.Sequential(\n",
    "            nn.Linear(in_features=in_features, out_features=208),\n",
    "            nn.Tanh())\n",
    "        \n",
    "\n",
    "    def encode(self, input: Tensor) -> List[Tensor]:\n",
    "        \"\"\"\n",
    "        Encodes the input by passing through the encoder network\n",
    "        and returns the latent codes.\n",
    "        :param input: (Tensor) Input tensor to encoder [N x C x H x W]\n",
    "        :return: (Tensor) List of latent codes\n",
    "        \"\"\"\n",
    "        result = self.encoder(input)\n",
    "\n",
    "        # Split the result into mu and var components\n",
    "        # of the latent Gaussian distribution\n",
    "        mu = self.fc_mu(result)\n",
    "        log_var = self.fc_var(result)\n",
    "\n",
    "        return [mu, log_var]\n",
    "\n",
    "    def decode(self, z: Tensor) -> Tensor:\n",
    "        \"\"\"\n",
    "        Maps the given latent codes\n",
    "        onto the image space.\n",
    "        :param z: (Tensor) [B x D]\n",
    "        :return: (Tensor) [B x C x H x W]\n",
    "        \"\"\"\n",
    "        result = self.decoder_input(z)\n",
    "        result = self.decoder(result)\n",
    "        result = self.final_layer(result)\n",
    "        return result\n",
    "\n",
    "    def reparameterize(self, mu: Tensor, logvar: Tensor) -> Tensor:\n",
    "        \"\"\"\n",
    "        Reparameterization trick to sample from N(mu, var) from\n",
    "        N(0,1).\n",
    "        :param mu: (Tensor) Mean of the latent Gaussian [B x D]\n",
    "        :param logvar: (Tensor) Standard deviation of the latent Gaussian [B x D]\n",
    "        :return: (Tensor) [B x D]\n",
    "        \"\"\"\n",
    "        std = torch.exp(0.5 * logvar)\n",
    "        eps = torch.randn_like(std)\n",
    "        return eps * std + mu\n",
    "\n",
    "    def forward(self, input: Tensor, **kwargs) -> List[Tensor]:\n",
    "        mu, log_var = self.encode(input)\n",
    "        z = self.reparameterize(mu, log_var)\n",
    "        return  [self.decode(z), input, mu, log_var]\n",
    "\n",
    "    def loss_function(self,\n",
    "                      *args,\n",
    "                      **kwargs) -> dict:\n",
    "        \"\"\"\n",
    "        Computes the VAE loss function.\n",
    "        KL(N(\\mu, \\sigma), N(0, 1)) = \\log \\frac{1}{\\sigma} + \\frac{\\sigma^2 + \\mu^2}{2} - \\frac{1}{2}\n",
    "        :param args:\n",
    "        :param kwargs:\n",
    "        :return:\n",
    "        \"\"\"\n",
    "        recons = args[0]\n",
    "        input = args[1]\n",
    "        mu = args[2]\n",
    "        log_var = args[3]\n",
    "\n",
    "        kld_weight = kwargs['M_N']\n",
    "        recons_loss =F.mse_loss(recons, input)\n",
    "\n",
    "\n",
    "        kld_loss = torch.mean(-0.5 * torch.sum(1 + log_var - mu ** 2 - log_var.exp(), dim = 1), dim = 0)\n",
    "\n",
    "        loss = recons_loss + kld_weight * kld_loss\n",
    "        return [loss, recons_loss, -kld_loss]\n",
    "\n",
    "    def sample(self,\n",
    "               num_samples:int,\n",
    "               current_device: int, **kwargs) -> Tensor:\n",
    "        \"\"\"\n",
    "        Samples from the latent space and return the corresponding\n",
    "        image space map.\n",
    "        :param num_samples: (Int) Number of samples\n",
    "        :param current_device: (Int) Device to run the model\n",
    "        :return: (Tensor)\n",
    "        \"\"\"\n",
    "        z = torch.randn(num_samples,\n",
    "                        self.latent_dim)\n",
    "\n",
    "        z = z.to(current_device)\n",
    "\n",
    "        samples = self.decode(z)\n",
    "        return samples\n",
    "\n",
    "    def generate(self, x: Tensor, **kwargs) -> Tensor:\n",
    "        \"\"\"\n",
    "        Given an input image x, returns the reconstructed image\n",
    "        :param x: (Tensor) [B x C x H x W]\n",
    "        :return: (Tensor) [B x C x H x W]\n",
    "        \"\"\"\n",
    "\n",
    "        return self.forward(x)[0]"
   ]
  },
  {
   "cell_type": "markdown",
   "metadata": {},
   "source": [
    "#### vae_BN"
   ]
  },
  {
   "cell_type": "code",
   "execution_count": 2,
   "metadata": {},
   "outputs": [],
   "source": [
    "\n",
    "import torch\n",
    "from torch import nn\n",
    "from torch.nn import functional as F\n",
    "\n",
    "dict_vae = {\n",
    "    \"0\":[256, 128, 64, 32],\n",
    "    \"1\":[256, 256, 128, 64, 32],\n",
    "    \"2\":[256, 256, 256, 256],\n",
    "    \"3\":[256, 256, 256, 256, 512, 512],\n",
    "    \"4\":[512, 512, 512, 512, 512, 512, 1024],\n",
    "    \"5\":[1024, 1024, 1024, 1024, 1024, 1024, 2048],\n",
    "    \"6\":[2048, 2048, 1024, 1024, 1024, 2048, 2048],\n",
    "    \"01\":[256, 128, 64, 32], # 这里的kl系数在100epoch之前是逐渐增大的\n",
    "    \"02\":[256, 128, 64, 32], # 增大batch_size为\n",
    "}\n",
    "\n",
    "class VanillaVAE_BN(BaseVAE):\n",
    "\n",
    "\n",
    "    def __init__(self,\n",
    "                 in_features: int,\n",
    "                 latent_dim: int,\n",
    "                 hidden_dims: List = None,\n",
    "                 hidden_id: str = None,\n",
    "                 **kwargs) -> None:\n",
    "        super(VanillaVAE_BN, self).__init__()\n",
    "\n",
    "        self.latent_dim = latent_dim\n",
    "\n",
    "        if hidden_dims is None:\n",
    "            hidden_dims = dict_vae[hidden_id]\n",
    "\n",
    "\n",
    "\n",
    "        # Build Encoder\n",
    "        modules = []\n",
    "        \n",
    "        for h_dim in hidden_dims:\n",
    "            modules.append(\n",
    "                nn.Sequential(\n",
    "                    nn.Linear(in_features=in_features, out_features=h_dim),\n",
    "                    nn.BatchNorm1d(h_dim),\n",
    "                    nn.LeakyReLU())\n",
    "            )\n",
    "            in_features = h_dim\n",
    "\n",
    "        self.encoder = nn.Sequential(*modules)\n",
    "        self.fc_mu = nn.Linear(hidden_dims[-1], latent_dim)\n",
    "        self.fc_var = nn.Linear(hidden_dims[-1], latent_dim)\n",
    "\n",
    "\n",
    "        # Build Decoder\n",
    "        modules = []\n",
    "\n",
    "        self.decoder_input = nn.Linear(latent_dim, hidden_dims[-1])\n",
    "\n",
    "        hidden_dims.reverse() #数组反转\n",
    "        in_features = hidden_dims[0]\n",
    "        for h_dim in hidden_dims:\n",
    "            modules.append(\n",
    "                nn.Sequential(\n",
    "                    nn.Linear(in_features=in_features, out_features=h_dim),\n",
    "                    nn.BatchNorm1d(h_dim),\n",
    "                    nn.LeakyReLU())\n",
    "            )\n",
    "            in_features = h_dim\n",
    "            \n",
    "\n",
    "        self.decoder = nn.Sequential(*modules)\n",
    "\n",
    "        self.final_layer = nn.Sequential(\n",
    "            nn.Linear(in_features=in_features, out_features=208),\n",
    "            nn.Tanh())\n",
    "        \n",
    "\n",
    "    def encode(self, input: Tensor) -> List[Tensor]:\n",
    "        \"\"\"\n",
    "        Encodes the input by passing through the encoder network\n",
    "        and returns the latent codes.\n",
    "        :param input: (Tensor) Input tensor to encoder [N x C x H x W]\n",
    "        :return: (Tensor) List of latent codes\n",
    "        \"\"\"\n",
    "        result = self.encoder(input)\n",
    "\n",
    "        # Split the result into mu and var components\n",
    "        # of the latent Gaussian distribution\n",
    "        mu = self.fc_mu(result)\n",
    "        log_var = self.fc_var(result)\n",
    "\n",
    "        return [mu, log_var]\n",
    "\n",
    "    def decode(self, z: Tensor) -> Tensor:\n",
    "        \"\"\"\n",
    "        Maps the given latent codes\n",
    "        onto the image space.\n",
    "        :param z: (Tensor) [B x D]\n",
    "        :return: (Tensor) [B x C x H x W]\n",
    "        \"\"\"\n",
    "        result = self.decoder_input(z)\n",
    "        result = self.decoder(result)\n",
    "        result = self.final_layer(result)\n",
    "        return result\n",
    "\n",
    "    def reparameterize(self, mu: Tensor, logvar: Tensor) -> Tensor:\n",
    "        \"\"\"\n",
    "        Reparameterization trick to sample from N(mu, var) from\n",
    "        N(0,1).\n",
    "        :param mu: (Tensor) Mean of the latent Gaussian [B x D]\n",
    "        :param logvar: (Tensor) Standard deviation of the latent Gaussian [B x D]\n",
    "        :return: (Tensor) [B x D]\n",
    "        \"\"\"\n",
    "        std = torch.exp(0.5 * logvar)\n",
    "        eps = torch.randn_like(std)\n",
    "        return eps * std + mu\n",
    "\n",
    "    def forward(self, input: Tensor, **kwargs) -> List[Tensor]:\n",
    "        mu, log_var = self.encode(input)\n",
    "        z = self.reparameterize(mu, log_var)\n",
    "        return  [self.decode(z), input, mu, log_var]\n",
    "\n",
    "    def loss_function(self,\n",
    "                      *args,\n",
    "                      **kwargs) -> dict:\n",
    "        \"\"\"\n",
    "        Computes the VAE loss function.\n",
    "        KL(N(\\mu, \\sigma), N(0, 1)) = \\log \\frac{1}{\\sigma} + \\frac{\\sigma^2 + \\mu^2}{2} - \\frac{1}{2}\n",
    "        :param args:\n",
    "        :param kwargs:\n",
    "        :return:\n",
    "        \"\"\"\n",
    "        recons = args[0]\n",
    "        input = args[1]\n",
    "        mu = args[2]\n",
    "        log_var = args[3]\n",
    "\n",
    "        kld_weight = kwargs['M_N']\n",
    "        recons_loss =F.mse_loss(recons, input)\n",
    "\n",
    "\n",
    "        kld_loss = torch.mean(-0.5 * torch.sum(1 + log_var - mu ** 2 - log_var.exp(), dim = 1), dim = 0)\n",
    "\n",
    "        loss = recons_loss + kld_weight * kld_loss\n",
    "        return [loss, recons_loss, -kld_loss]\n",
    "\n",
    "    def sample(self,\n",
    "               num_samples:int,\n",
    "               current_device: int, **kwargs) -> Tensor:\n",
    "        \"\"\"\n",
    "        Samples from the latent space and return the corresponding\n",
    "        image space map.\n",
    "        :param num_samples: (Int) Number of samples\n",
    "        :param current_device: (Int) Device to run the model\n",
    "        :return: (Tensor)\n",
    "        \"\"\"\n",
    "        z = torch.randn(num_samples,\n",
    "                        self.latent_dim)\n",
    "\n",
    "        z = z.to(current_device)\n",
    "\n",
    "        samples = self.decode(z)\n",
    "        return samples\n",
    "\n",
    "    def generate(self, x: Tensor, **kwargs) -> Tensor:\n",
    "        \"\"\"\n",
    "        Given an input image x, returns the reconstructed image\n",
    "        :param x: (Tensor) [B x C x H x W]\n",
    "        :return: (Tensor) [B x C x H x W]\n",
    "        \"\"\"\n",
    "\n",
    "        return self.forward(x)[0]"
   ]
  },
  {
   "cell_type": "markdown",
   "metadata": {},
   "source": [
    "#### 数据处理"
   ]
  },
  {
   "cell_type": "code",
   "execution_count": 3,
   "metadata": {},
   "outputs": [],
   "source": [
    "import torch\n",
    "import torch.nn as nn\n",
    "import torch.optim as optim\n",
    "from torch.utils.data import DataLoader, Dataset\n",
    "import numpy as np\n",
    "\n",
    "from torch.nn import functional as F\n",
    "from tqdm import tqdm\n",
    "# 定义数据集类\n",
    "class MyDataset(Dataset):\n",
    "    def __init__(self, data):\n",
    "        self.data = data\n",
    "\n",
    "    def __getitem__(self, index):\n",
    "        return self.data[index]\n",
    "\n",
    "    def __len__(self):\n",
    "        return len(self.data)\n",
    "\n"
   ]
  },
  {
   "cell_type": "markdown",
   "metadata": {},
   "source": [
    "#### 模型训练"
   ]
  },
  {
   "cell_type": "code",
   "execution_count": 4,
   "metadata": {},
   "outputs": [
    {
     "data": {
      "text/plain": [
       "VanillaVAE_BN(\n",
       "  (encoder): Sequential(\n",
       "    (0): Sequential(\n",
       "      (0): Linear(in_features=208, out_features=256, bias=True)\n",
       "      (1): BatchNorm1d(256, eps=1e-05, momentum=0.1, affine=True, track_running_stats=True)\n",
       "      (2): LeakyReLU(negative_slope=0.01)\n",
       "    )\n",
       "    (1): Sequential(\n",
       "      (0): Linear(in_features=256, out_features=128, bias=True)\n",
       "      (1): BatchNorm1d(128, eps=1e-05, momentum=0.1, affine=True, track_running_stats=True)\n",
       "      (2): LeakyReLU(negative_slope=0.01)\n",
       "    )\n",
       "    (2): Sequential(\n",
       "      (0): Linear(in_features=128, out_features=64, bias=True)\n",
       "      (1): BatchNorm1d(64, eps=1e-05, momentum=0.1, affine=True, track_running_stats=True)\n",
       "      (2): LeakyReLU(negative_slope=0.01)\n",
       "    )\n",
       "    (3): Sequential(\n",
       "      (0): Linear(in_features=64, out_features=32, bias=True)\n",
       "      (1): BatchNorm1d(32, eps=1e-05, momentum=0.1, affine=True, track_running_stats=True)\n",
       "      (2): LeakyReLU(negative_slope=0.01)\n",
       "    )\n",
       "  )\n",
       "  (fc_mu): Linear(in_features=32, out_features=2, bias=True)\n",
       "  (fc_var): Linear(in_features=32, out_features=2, bias=True)\n",
       "  (decoder_input): Linear(in_features=2, out_features=32, bias=True)\n",
       "  (decoder): Sequential(\n",
       "    (0): Sequential(\n",
       "      (0): Linear(in_features=32, out_features=32, bias=True)\n",
       "      (1): BatchNorm1d(32, eps=1e-05, momentum=0.1, affine=True, track_running_stats=True)\n",
       "      (2): LeakyReLU(negative_slope=0.01)\n",
       "    )\n",
       "    (1): Sequential(\n",
       "      (0): Linear(in_features=32, out_features=64, bias=True)\n",
       "      (1): BatchNorm1d(64, eps=1e-05, momentum=0.1, affine=True, track_running_stats=True)\n",
       "      (2): LeakyReLU(negative_slope=0.01)\n",
       "    )\n",
       "    (2): Sequential(\n",
       "      (0): Linear(in_features=64, out_features=128, bias=True)\n",
       "      (1): BatchNorm1d(128, eps=1e-05, momentum=0.1, affine=True, track_running_stats=True)\n",
       "      (2): LeakyReLU(negative_slope=0.01)\n",
       "    )\n",
       "    (3): Sequential(\n",
       "      (0): Linear(in_features=128, out_features=256, bias=True)\n",
       "      (1): BatchNorm1d(256, eps=1e-05, momentum=0.1, affine=True, track_running_stats=True)\n",
       "      (2): LeakyReLU(negative_slope=0.01)\n",
       "    )\n",
       "  )\n",
       "  (final_layer): Sequential(\n",
       "    (0): Linear(in_features=256, out_features=208, bias=True)\n",
       "    (1): Tanh()\n",
       "  )\n",
       ")"
      ]
     },
     "execution_count": 4,
     "metadata": {},
     "output_type": "execute_result"
    }
   ],
   "source": [
    "num_epochs = 3000\n",
    "batch_size = 128\n",
    "learning_rate = 5e-4\n",
    "device = torch.device('cuda:1')\n",
    "kl_alf=0.01\n",
    "import model_files as model_all\n",
    "\n",
    "\n",
    "id_number = \"02\"\n",
    "vae = VanillaVAE_BN(in_features=208, latent_dim=2, hidden_id=id_number).to(device)\n",
    "vae_dict = torch.load(\"./临时垃圾-随时可删/vae_BN测试/vae\" + id_number + \".pt\", map_location=device) # 当时我保存模型的时候save的是vae.state_dict没有加上括号\n",
    "vae.load_state_dict(vae_dict)\n",
    "vae.eval()\n",
    "# vae.load_state_dict(torch.load(\"./model_files/CIFAR10/checkpoints/vae/vae2.pt\", map_location=device))\n",
    "# vae.eval()\n",
    "\n",
    "# vae = VanillaVAE(in_features=208, latent_dim=2).to(device)\n",
    "# vae.load_state_dict(torch.load(\"./model_files/CIFAR10/checkpoints/vae/vae.pt\", map_location=device))\n",
    "# vae.train()\n",
    "# optimizer = torch.optim.Adam(vae.parameters(), lr=0.005)"
   ]
  },
  {
   "cell_type": "code",
   "execution_count": 5,
   "metadata": {},
   "outputs": [
    {
     "name": "stderr",
     "output_type": "stream",
     "text": [
      "100%|██████████| 50000/50000 [00:18<00:00, 2688.23it/s]"
     ]
    },
    {
     "name": "stdout",
     "output_type": "stream",
     "text": [
      "torch.Size([50000, 208])\n"
     ]
    },
    {
     "name": "stderr",
     "output_type": "stream",
     "text": [
      "\n"
     ]
    }
   ],
   "source": [
    "import model_files as model_all #模型的连接在__init__.py中体现\n",
    "import random\n",
    "\n",
    "BigGAN = model_all.get_generative_model(\"CIFAR10\")\n",
    "# 选择生成模型\n",
    "checkpoints_path = \"./model_files/CIFAR10/checkpoints/BigGAN/model=G-best-weights-step=162000.pth\"\n",
    "G = BigGAN.to(device)\n",
    "G.load_state_dict(torch.load(checkpoints_path, map_location=device)[\"state_dict\"])\n",
    "G.eval()\n",
    "number = 50000\n",
    "\n",
    "save_pic_path = \"./static/data/CIFAR10/pic/random_\"+ str(number//1000) +\"k\"\n",
    "\n",
    "\n",
    "\n",
    "for num in tqdm(range(number)):\n",
    "    z = torch.tensor(np.random.RandomState(num).randn(1, 80)).to(torch.float32).to(device)    # latent code\n",
    "    label = torch.tensor(random.randrange(10)).unsqueeze(0).to(device)\n",
    "    shared_label = G.shared(label)\n",
    "    z_and_shared_label = torch.cat((z, shared_label), dim = 1)\n",
    "    if num == 0:\n",
    "        zs_all = z_and_shared_label\n",
    "    else:\n",
    "        zs_all = torch.cat((zs_all, z_and_shared_label))\n",
    "print(zs_all.shape)"
   ]
  },
  {
   "cell_type": "code",
   "execution_count": 6,
   "metadata": {},
   "outputs": [],
   "source": [
    "dataset = MyDataset(zs_all)\n",
    "dataloader = DataLoader(dataset, batch_size=128, shuffle=True)"
   ]
  },
  {
   "cell_type": "code",
   "execution_count": 7,
   "metadata": {},
   "outputs": [
    {
     "name": "stdout",
     "output_type": "stream",
     "text": [
      "torch.Size([50000, 2])\n"
     ]
    }
   ],
   "source": [
    "\n",
    "for i, latent_208 in enumerate(dataloader):\n",
    "    mu, log_var = vae.encode(latent_208)\n",
    "    z2 = vae.reparameterize(mu, log_var)\n",
    "    if i == 0:\n",
    "        z2_all = z2\n",
    "    else:\n",
    "        z2_all = torch.cat((z2_all, z2))\n",
    "print(z2_all.shape)"
   ]
  },
  {
   "cell_type": "code",
   "execution_count": 8,
   "metadata": {},
   "outputs": [
    {
     "data": {
      "image/png": "[encoded data removed]",
      "text/plain": [
       "<Figure size 640x480 with 1 Axes>"
      ]
     },
     "metadata": {},
     "output_type": "display_data"
    }
   ],
   "source": [
    "import matplotlib.pyplot as plt\n",
    "data2d = z2_all.cpu().detach().numpy()\n",
    "plt.scatter(data2d[:, 0], data2d[:, 1], s=0.5)\n",
    "# 添加坐标轴标签和图标题\n",
    "plt.xlabel('x')\n",
    "plt.ylabel('y')\n",
    "plt.title('dimension reduction 208')\n",
    "plt.show()"
   ]
  },
  {
   "cell_type": "markdown",
   "metadata": {},
   "source": [
    "#### 随机采样打样，忽略"
   ]
  },
  {
   "cell_type": "code",
   "execution_count": 9,
   "metadata": {},
   "outputs": [],
   "source": [
    "# sample_z = torch.randn(50000, 2)\n",
    "# data2d = sample_z.cpu().detach().numpy()\n",
    "# plt.scatter(data2d[:, 0], data2d[:, 1], s=0.5)\n",
    "# # 添加坐标轴标签和图标题\n",
    "# plt.xlabel('x')\n",
    "# plt.ylabel('y')\n",
    "# plt.title('random sample 208')\n",
    "# plt.show()"
   ]
  },
  {
   "cell_type": "code",
   "execution_count": 10,
   "metadata": {},
   "outputs": [],
   "source": [
    "# # 计算坐标点的协方差矩阵\n",
    "# cov = np.cov(data2d.T)\n",
    "\n",
    "# # 生成符合多元正态分布的新坐标点\n",
    "# new_coords = np.random.multivariate_normal(np.mean(data2d, axis=0), cov, size=50000)\n",
    "# plt.scatter(new_coords[:, 0], new_coords[:, 1], s=0.5)\n",
    "# # 添加坐标轴标签和图标题\n",
    "# plt.xlabel('x')\n",
    "# plt.ylabel('y')\n",
    "# plt.title('Scatter Plot of Normalized Data')\n",
    "# plt.show()"
   ]
  },
  {
   "cell_type": "markdown",
   "metadata": {},
   "source": [
    "#### vae采样生成"
   ]
  },
  {
   "cell_type": "code",
   "execution_count": 11,
   "metadata": {},
   "outputs": [],
   "source": [
    "import matplotlib.pyplot as plt\n",
    "# 生成新数据\n",
    "\n",
    "zs = vae.sample(50000, device)"
   ]
  },
  {
   "cell_type": "code",
   "execution_count": 12,
   "metadata": {},
   "outputs": [
    {
     "name": "stdout",
     "output_type": "stream",
     "text": [
      "tensor([ 1.7641,  0.4002,  0.9787,  2.2409,  1.8676, -0.9773,  0.9501, -0.1514,\n",
      "        -0.1032,  0.4106,  0.1440,  1.4543,  0.7610,  0.1217,  0.4439,  0.3337,\n",
      "         1.4941, -0.2052,  0.3131, -0.8541, -2.5530,  0.6536,  0.8644, -0.7422,\n",
      "         2.2698, -1.4544,  0.0458, -0.1872,  1.5328,  1.4694,  0.1549,  0.3782,\n",
      "        -0.8878, -1.9808, -0.3479,  0.1563,  1.2303,  1.2024, -0.3873, -0.3023,\n",
      "        -1.0486, -1.4200, -1.7063,  1.9508, -0.5097, -0.4381, -1.2528,  0.7775,\n",
      "        -1.6139, -0.2127, -0.8955,  0.3869, -0.5108, -1.1806, -0.0282,  0.4283,\n",
      "         0.0665,  0.3025, -0.6343, -0.3627, -0.6725, -0.3596, -0.8131, -1.7263,\n",
      "         0.1774, -0.4018, -1.6302,  0.4628, -0.9073,  0.0519,  0.7291,  0.1290,\n",
      "         1.1394, -1.2348,  0.4023, -0.6848, -0.8708, -0.5788, -0.3116,  0.0562,\n",
      "        -0.2827,  0.4797,  0.2446, -0.2046,  2.1742,  0.5331, -0.1289,  0.1671,\n",
      "         0.6368, -1.8712,  0.5975, -0.1503,  0.6386,  0.0323, -0.9272, -0.1543,\n",
      "        -0.9216, -0.9502,  1.5223, -0.1897, -0.7175,  1.3453, -0.9486,  0.0964,\n",
      "        -0.7085,  0.1437,  0.3481,  0.1321,  0.5933, -0.8676,  0.5235, -1.0549,\n",
      "        -0.9210,  1.5794, -1.8120,  0.7715, -1.7529,  0.2307, -1.6381,  0.1074,\n",
      "        -1.3148, -1.3232, -0.8845, -0.7878, -0.1969, -0.6692,  0.7713,  1.3726,\n",
      "        -1.2852,  0.9743,  0.4186,  0.0261, -0.2473, -1.0802, -1.1435, -0.9806,\n",
      "         0.8755, -0.2438,  0.3046,  0.0066, -1.1454, -0.1908,  0.9045,  0.4370,\n",
      "        -0.7000, -0.8580, -0.5168,  0.1121,  1.0643,  0.2455, -0.5414, -0.7889,\n",
      "         0.3290,  0.5276, -0.2680,  0.1257,  1.1630,  0.5312, -0.9189, -1.5354,\n",
      "        -1.5745,  0.9864,  0.1503,  1.0888, -1.5031,  0.1074,  0.6591,  0.2857,\n",
      "         0.0895,  0.1038,  0.3772, -0.5054,  1.3561,  1.7943,  0.4969,  0.8405,\n",
      "        -0.2413,  0.4995,  2.1578, -0.5916,  0.6498, -0.4642, -0.8925,  0.6779,\n",
      "         0.0483,  0.2160, -0.7059,  0.7430,  0.2862, -0.2382,  0.2926, -0.1814,\n",
      "        -0.4506,  0.6394,  0.2505,  1.0027,  0.1496,  0.8279, -0.3457,  0.5926,\n",
      "         1.6061,  0.0058,  0.7812,  1.5644,  0.5480, -0.6891, -0.0704, -0.1530],\n",
      "       device='cuda:1', grad_fn=<SelectBackward>)\n"
     ]
    }
   ],
   "source": [
    "latent_z_path=\"./static/data/CIFAR10/latent_z/BigGAN_208z_50000.pt\"\n",
    "latent_z = torch.load(latent_z_path, map_location=device) #因为我之前保存数据到了GPU上，所以要回到cpu上才不会出错\n",
    "print(latent_z[0])"
   ]
  },
  {
   "cell_type": "code",
   "execution_count": 13,
   "metadata": {},
   "outputs": [
    {
     "name": "stdout",
     "output_type": "stream",
     "text": [
      "tensor([[-0.0268,  0.0043]], device='cuda:1', grad_fn=<AddmmBackward>) tensor([[ 0.0324, -0.0022]], device='cuda:1', grad_fn=<AddmmBackward>)\n",
      "tensor([[-0.2266,  1.2685]], device='cuda:1', grad_fn=<AddBackward0>)\n"
     ]
    }
   ],
   "source": [
    "\n",
    "mu, log_var = vae.encode(latent_z[0].unsqueeze(0))\n",
    "print(mu, log_var)\n",
    "z = vae.reparameterize(mu, log_var)\n",
    "print(z)"
   ]
  },
  {
   "cell_type": "code",
   "execution_count": 14,
   "metadata": {},
   "outputs": [
    {
     "name": "stdout",
     "output_type": "stream",
     "text": [
      "tensor([[ 5.3544e-03, -1.1059e-04, -2.0712e-04,  3.9353e-03, -2.6855e-02,\n",
      "          2.8773e-02,  2.4224e-02, -7.4253e-03,  6.4010e-03,  3.0491e-03,\n",
      "          2.2894e-02,  3.8896e-03,  1.8979e-02, -2.8179e-02, -7.1309e-03,\n",
      "          1.4862e-02,  2.2837e-02, -2.4330e-02, -5.1731e-03,  1.7382e-03,\n",
      "          1.4134e-02, -4.7312e-02, -2.5235e-02,  5.8729e-03, -9.0111e-03,\n",
      "         -9.1196e-03,  5.6692e-03,  1.8636e-02, -1.3028e-02,  8.2750e-03,\n",
      "          1.1331e-02,  1.5696e-03, -5.6867e-03,  7.4658e-03, -1.1954e-04,\n",
      "         -8.4442e-03,  9.5032e-03,  1.0085e-02,  3.9656e-02, -1.2113e-02,\n",
      "         -1.0181e-02, -1.1081e-02, -4.9136e-03, -4.6471e-03, -1.3712e-02,\n",
      "          3.3240e-02, -2.8737e-02, -4.3304e-02, -2.4744e-02, -4.5193e-03,\n",
      "          1.7331e-02, -3.4662e-03, -4.0432e-02, -5.0744e-03,  1.8649e-03,\n",
      "          9.4211e-03,  1.9236e-02,  2.4153e-03, -2.1709e-02, -7.3284e-03,\n",
      "          2.2214e-03,  3.1764e-02,  2.8347e-03, -2.0977e-02, -4.4183e-02,\n",
      "          2.2800e-02, -3.1737e-02,  2.8187e-02, -9.3631e-03,  8.6923e-03,\n",
      "          5.9115e-04, -1.7060e-02, -6.3337e-03, -1.0639e-02, -3.4841e-02,\n",
      "          2.6958e-02,  6.6513e-03,  1.0612e-02, -2.1014e-02, -1.8689e-02,\n",
      "          4.2071e-02, -1.5675e-01,  7.5564e-01, -3.7458e-01,  9.9941e-01,\n",
      "          5.4728e-01, -1.7140e-01, -5.3631e-01,  6.8023e-01, -8.1980e-01,\n",
      "          8.6209e-01,  7.6944e-01,  4.6045e-01,  4.0177e-01, -4.6214e-01,\n",
      "         -6.8222e-01, -7.3284e-01, -4.2183e-01,  7.7808e-01, -3.0677e-01,\n",
      "         -5.3057e-01,  9.2195e-01, -7.2463e-01, -2.7528e-01, -4.7599e-01,\n",
      "         -5.0107e-01,  5.9178e-01, -9.9955e-04,  2.6485e-01, -8.3770e-01,\n",
      "          9.9813e-01, -5.0616e-01, -6.8569e-01,  6.6310e-01, -9.1322e-01,\n",
      "          7.3314e-01, -9.9857e-01,  1.1469e-01, -7.0800e-01, -7.1923e-01,\n",
      "         -8.0720e-01, -3.8800e-01, -2.3758e-01, -7.2207e-01, -3.7867e-01,\n",
      "         -8.5035e-01,  5.4567e-01,  9.9930e-01, -9.4598e-01,  4.4517e-01,\n",
      "          3.4980e-01,  5.7707e-01, -7.4125e-01, -8.5864e-01, -6.4963e-01,\n",
      "         -9.1340e-01,  4.8707e-01, -2.4861e-01,  7.9080e-01, -7.8760e-01,\n",
      "         -9.9623e-01, -7.8848e-01, -9.1909e-02,  7.6141e-01, -9.2931e-01,\n",
      "         -5.5898e-01, -9.9928e-01,  5.5043e-03,  9.9903e-01,  2.3678e-01,\n",
      "         -6.7170e-01, -4.0917e-01,  9.9192e-01,  8.5977e-02, -2.0986e-01,\n",
      "          1.5631e-01,  4.4538e-01, -3.6424e-01, -6.8366e-01, -7.6014e-01,\n",
      "         -6.5205e-01,  1.8565e-01,  2.7667e-01,  6.7649e-01, -3.8498e-01,\n",
      "          9.8523e-01, -7.0211e-02,  7.2390e-01,  7.3324e-01, -7.6214e-01,\n",
      "          9.9957e-01, -8.1213e-01,  9.9948e-01,  9.1596e-01,  4.5277e-01,\n",
      "          1.7089e-01, -4.4520e-01,  9.9071e-01,  9.9821e-01, -7.5534e-01,\n",
      "         -1.0782e-01,  5.1033e-01, -9.9910e-01,  1.2911e-01, -5.1961e-01,\n",
      "          6.6203e-01, -2.2829e-01,  9.9625e-01,  9.4863e-01,  5.4141e-01,\n",
      "         -2.1669e-01,  2.3277e-01, -3.0938e-01,  4.1915e-01,  7.1534e-01,\n",
      "          2.2853e-01,  4.1929e-01,  7.7001e-01,  2.6043e-01, -1.4260e-02,\n",
      "          8.3075e-01, -1.3843e-01, -4.5144e-02,  9.9953e-01,  8.7171e-01,\n",
      "          2.6188e-01, -4.6343e-02, -2.3098e-01]], device='cuda:1',\n",
      "       grad_fn=<TanhBackward>)\n"
     ]
    }
   ],
   "source": [
    "recon_latent = vae.decode(z)\n",
    "print(recon_latent)"
   ]
  },
  {
   "cell_type": "code",
   "execution_count": 15,
   "metadata": {},
   "outputs": [
    {
     "name": "stdout",
     "output_type": "stream",
     "text": [
      "torch.Size([50000, 208])\n"
     ]
    }
   ],
   "source": [
    "print(zs.shape)"
   ]
  },
  {
   "cell_type": "code",
   "execution_count": 16,
   "metadata": {},
   "outputs": [
    {
     "name": "stdout",
     "output_type": "stream",
     "text": [
      "\n"
     ]
    }
   ],
   "source": [
    "from torch.utils.data import Dataset\n",
    "from torch.utils.data import DataLoader\n",
    "# 用来处理zs的类，方便使用batchsize\n",
    "class Mydata_sets(Dataset):\n",
    "    \n",
    "    def __init__(self, zs):\n",
    "        super(Mydata_sets, self).__init__()\n",
    "        self.zs = zs\n",
    "\n",
    "    def __getitem__(self, index):\n",
    "        z = self.zs[index]\n",
    "        return z\n",
    "\n",
    "    def __len__(self):\n",
    "        return len(self.zs)\n",
    "\n",
    "zs = zs.cpu()\n",
    "zs_datasets = Mydata_sets(zs)\n",
    "zs_loader = DataLoader(zs_datasets, batch_size=200, shuffle=False, num_workers=1)\n",
    "model_files_dir = \"./model_files/\" # 模型位置\n",
    "sys.path.append(model_files_dir)\n",
    "import model_files as model_all\n",
    "checkpoints_path = \"./model_files/CIFAR10/checkpoints/BigGAN/model=G-best-weights-step=162000.pth\"\n",
    "\n",
    "G = model_all.get_generative_model(\"CIFAR10\").to(device)\n",
    "G.load_state_dict(torch.load(checkpoints_path, map_location=device)[\"state_dict\"])\n",
    "G.eval()\n",
    "print()"
   ]
  },
  {
   "cell_type": "code",
   "execution_count": 17,
   "metadata": {},
   "outputs": [
    {
     "name": "stderr",
     "output_type": "stream",
     "text": [
      "/home/kuangjielong/.conda/envs/python3_7/lib/python3.7/site-packages/ipykernel_launcher.py:9: UserWarning: To copy construct from a tensor, it is recommended to use sourceTensor.clone().detach() or sourceTensor.clone().detach().requires_grad_(True), rather than torch.tensor(sourceTensor).\n",
      "  if __name__ == \"__main__\":\n"
     ]
    }
   ],
   "source": [
    "import torchvision.transforms as transforms\n",
    "import torchvision.utils as utils\n",
    "\n",
    "\n",
    "first = 0 # 判断是否第一次进入循环\n",
    "count = 0\n",
    "with torch.no_grad(): # 取消梯度计算，加快运行速度\n",
    "    for batch_z in zs_loader: \n",
    "        z = torch.tensor(batch_z).to(torch.float32).to(device)    # latent code\n",
    "        imgs = G(z)   \n",
    "        for i, img in enumerate(imgs):\n",
    "            img = ((img + 1)/2).clamp(0.0, 1.0) # 变换到[0,1]范围内\n",
    "            utils.save_image(img.detach().cpu(), f'./临时垃圾-随时可删/sample2D_50k/pic{count}.jpg')\n",
    "            count += 1"
   ]
  },
  {
   "cell_type": "code",
   "execution_count": 18,
   "metadata": {},
   "outputs": [
    {
     "name": "stdout",
     "output_type": "stream",
     "text": [
      "fid_model load success!\n"
     ]
    },
    {
     "name": "stderr",
     "output_type": "stream",
     "text": [
      "100%|██████████| 500/500 [00:50<00:00,  9.91it/s]\n",
      "100%|██████████| 500/500 [00:50<00:00,  9.85it/s]\n"
     ]
    },
    {
     "name": "stdout",
     "output_type": "stream",
     "text": [
      "sigma1.shape:  (2048, 2048)\n",
      "sigma2.shape:  (2048, 2048)\n",
      "400.4474549492192\n"
     ]
    }
   ],
   "source": [
    "import sys\n",
    "python_files_dir = \"./python_files/\" # python工具包位置\n",
    "sys.path.append(python_files_dir)\n",
    "import fid_score as official_fid\n",
    "# fid计算模型\n",
    "dims = 2048\n",
    "batch_size = 1\n",
    "num_avail_cpus = len(os.sched_getaffinity(0))\n",
    "num_workers = min(num_avail_cpus, 8)\n",
    "block_idx = official_fid.InceptionV3.BLOCK_INDEX_BY_DIM[2048]\n",
    "fid_model = official_fid.InceptionV3([block_idx]).to(device)\n",
    "print('fid_model load success!')\n",
    "\n",
    "\n",
    "pic_path_fid1 = './临时垃圾-随时可删/sample2D_50k/'\n",
    "pic_path_fid2 = './static/data/CIFAR10/pic/random_50k'\n",
    "    \n",
    "batch_size = 100\n",
    "m1, s1 = official_fid.compute_statistics_of_path(pic_path_fid1, fid_model, batch_size,\n",
    "                                    dims, device, num_workers)\n",
    "m2, s2 = official_fid.compute_statistics_of_path(pic_path_fid2, fid_model, batch_size,\n",
    "                                    dims, device, num_workers)\n",
    "fid_value=official_fid.calculate_frechet_distance(m1,s1,m2,s2) \n",
    "print(fid_value)"
   ]
  },
  {
   "cell_type": "code",
   "execution_count": 19,
   "metadata": {},
   "outputs": [
    {
     "name": "stdout",
     "output_type": "stream",
     "text": [
      "400.4474549492192\n"
     ]
    }
   ],
   "source": [
    "print(fid_value)"
   ]
  }
 ],
 "metadata": {
  "kernelspec": {
   "display_name": "Python 3.7.13 ('python3_7')",
   "language": "python",
   "name": "python3"
  },
  "language_info": {
   "codemirror_mode": {
    "name": "ipython",
    "version": 3
   },
   "file_extension": ".py",
   "mimetype": "text/x-python",
   "name": "python",
   "nbconvert_exporter": "python",
   "pygments_lexer": "ipython3",
   "version": "3.7.13"
  },
  "orig_nbformat": 4,
  "vscode": {
   "interpreter": {
    "hash": "b3772b2eda997016c1540bbd3537497480586e8c2c36534a823810c48e399899"
   }
  }
 },
 "nbformat": 4,
 "nbformat_minor": 2
}
