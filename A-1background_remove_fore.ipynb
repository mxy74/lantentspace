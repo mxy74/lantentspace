{
 "cells": [
  {
   "cell_type": "code",
   "execution_count": 1,
   "outputs": [
    {
     "name": "stdout",
     "output_type": "stream",
     "text": [
      "model_id:  M1\n",
      "model_name:  ResNet20\n",
      "准备CAM对象。。。\n"
     ]
    },
    {
     "name": "stderr",
     "output_type": "stream",
     "text": [
      "WARNING:root:no value was provided for `target_layer`, thus set to 'layer3'.\n",
      "WARNING:root:no value was provided for `fc_layer`, thus set to 'fc'.\n"
     ]
    },
    {
     "name": "stdout",
     "output_type": "stream",
     "text": [
      "CAM准备完毕。。。\n"
     ]
    }
   ],
   "source": [
    "# resnet50 处理图片，扣前景保留背景，存tensor格式\n",
    "#获取数据集，GAN生成的z,G(z)得到图片，输入DNN_model，使用钩子函数定位最后一个卷积层的输出，插值得到和原来图片一样尺寸的mask,看一下长啥样\n",
    "# CAM和gradCAM\n",
    "# https://github.com/frgfm/torch-cam,一个方法库\n",
    "import model_files as model_all\n",
    "import torch\n",
    "import time\n",
    "import sys\n",
    "import python_files.my_tools as my_tools\n",
    "from torchcam.methods import SmoothGradCAMpp, GradCAMpp, SSCAM, CAM, GradCAM\n",
    "from python_files.my_tools import get_zs_idw_not_class, get_foreground_by_cam\n",
    "\n",
    "data = {\n",
    "    \"model_id\": \"M1\",\n",
    "    \"model_name\": \"ResNet20\",\n",
    "    \"dataset_type\": \"CIFAR10\",\n",
    "}\n",
    "# data={\n",
    "#     \"model_id\":\"M2\",\n",
    "#     \"model_name\":\"AlexNet\",\n",
    "#     \"dataset_type\":\"CIFAR10\",\n",
    "#\n",
    "# }\n",
    "device_id = 0\n",
    "device = torch.device(\"cuda:\" + str(device_id))\n",
    "model_id = data[\"model_id\"]\n",
    "model_name = data[\"model_name\"]\n",
    "print(\"model_id: \", model_id)\n",
    "print(\"model_name: \", model_name)\n",
    "\n",
    "#申明使用的是全局\n",
    "\n",
    "dataset_type = data[\"dataset_type\"]\n",
    "\n",
    "# # CIFAR10生成模型\n",
    "#\n",
    "# checkpoints_path = \"./model_files/CIFAR10/checkpoints/BigGAN/model=G-best-weights-step=392000.pth\"  #kjl测试#############\n",
    "# global G\n",
    "# print(\"数据类型为：\", dataset_type)\n",
    "# G = model_all.get_generative_model(\"CIFAR10\").to(device)\n",
    "# G.load_state_dict(torch.load(checkpoints_path, map_location=device)[\"state_dict\"])\n",
    "# G.eval()\n",
    "#\n",
    "# # 提前加载预处理的数据（降维后的2维坐标和对应的高维向量）\n",
    "# # tree_2D_path=\"./static/data/CIFAR10/2D_kdTree/2D_kdTree_200000.pt\"\n",
    "# # data_z_path=\"./static/data/CIFAR10/latent_z/BigGAN_208z_200000.pt\"\n",
    "#\n",
    "# # tree_2D = torch.load(tree_2D_path)\n",
    "# # dict_zs = torch.load(data_z_path, map_location=\"cpu\") #因为我之前保存数据到了GPU上，所以要回到cpu上才不会出错\n",
    "#\n",
    "#\n",
    "# # kjl测试superviced-cnn-ae####################################start\n",
    "# tree_2D_path = \"./static/data/CIFAR10/2D_kdTree/2D_kdTree_50000_png_2023-08-30.pt\"\n",
    "# data_z_path = \"./static/data/CIFAR10/latent_z/BigGAN_random_png_208z_50000_2023-08-30.pt\"\n",
    "# tree_2D = torch.load(tree_2D_path)\n",
    "# dict_zs = torch.load(data_z_path, map_location=\"cpu\")\n",
    "# #因为我之前保存数据到了GPU上，所以要回到cpu上才不会出错\n",
    "#\n",
    "# Global_rob_predictor_dict = {}\n",
    "Global_DNN_model = model_all.get_DNN_model(dataset_type, model_name)\n",
    "#\n",
    "# print(\"准备分类模型。。。\")\n",
    "Global_DNN_model.load_state_dict(torch.load(\"./model_files/\" + dataset_type + \"/checkpoints/classify_model/\" + model_name + \".pt\", map_location=device))\n",
    "\n",
    "# Global_DNN_model = torch.load(\"./model_files/CIFAR10/checkpoints/classify_model/ResNet20.pt\", map_location=device)\n",
    "Global_DNN_model.eval()\n",
    "Global_DNN_model.to(device)\n",
    "\n",
    "\n",
    "\n",
    "\n",
    "# print(\"DNN模型准备完毕，准备鲁棒性预测模型。。。\")\n",
    "#\n",
    "# Global_rob_predictor_dict[model_id] = model_all.get_rob_predictor(dataset_type, model_name)\n",
    "# Global_rob_predictor_dict[model_id].load_state_dict((torch.load(\n",
    "#     \"./model_files/\" + dataset_type + \"/checkpoints/rob_predictor/kjl_rob_predictor_\" + model_name + \".pt\",\n",
    "#     map_location=device)))  #自动驾驶使用的8度鲁棒性\n",
    "# Global_rob_predictor_dict[model_id].eval()\n",
    "# Global_rob_predictor_dict[model_id].to(device)\n",
    "# Rob_predictor = Global_rob_predictor_dict[model_id]\n",
    "\n",
    "# DNN_model = Global_DNN_model_dict[\"M2\"]\n",
    "print(\"准备CAM对象。。。\")\n",
    "# 初始化 SmoothGradCAMpp 对象\n",
    "DNN_model = Global_DNN_model\n",
    "# 原始CAM是最快的，但是不适用于卷积后边接了多个fc的，也就是CAM只适用于MobileNet，ResNet系列，不适用AlexNet和VGG系列\n",
    "# CAMmethod = CAM(DNN_model)\n",
    "\n",
    "CAMmethod = CAM(DNN_model)\n",
    "# CAMmethod = SmoothGradCAMpp(DNN_model)\n",
    "print(\"CAM准备完毕。。。\")\n",
    "\n"
   ],
   "metadata": {
    "collapsed": false
   }
  },
  {
   "cell_type": "code",
   "execution_count": 3,
   "outputs": [
    {
     "name": "stdout",
     "output_type": "stream",
     "text": [
      "torch.Size([50000, 3, 32, 32])\n"
     ]
    }
   ],
   "source": [
    "import torchvision.transforms.functional as TF\n",
    "from torchvision.transforms.functional import normalize, resize, to_pil_image\n",
    "\n",
    "import torch\n",
    "from PIL import Image\n",
    "from matplotlib import pyplot as plt\n",
    "# 创建一个空列表，用于存储每张图像的 masked_random_image_tensor\n",
    "masked_tensors = []\n",
    "# 图片处理\n",
    "for i in range(50000):\n",
    "    # 取图片\n",
    "    random_image_filename = './static/data/' + dataset_type + f'/pic/origin_50k_png/pic_{i}.png'\n",
    "    random_image = Image.open(random_image_filename)\n",
    "    random_image_tensor = TF.to_tensor(random_image).unsqueeze(0).to(device)\n",
    "    # 因为是从图片直接读取的，要跟image范围匹配，这样后边进行+1/2的操作不会颜色变浅\n",
    "    random_image_tensor = random_image_tensor*2-1\n",
    "\n",
    "    # 分类\n",
    "    layers = DNN_model(random_image_tensor)  # 分类模型分类图片\n",
    "    # CAMlayer = activation['layer3']\n",
    "    max_value, label = torch.max(layers, dim=1)\n",
    "    max_pro_id = layers.squeeze(0).argmax().item()\n",
    "    # print(max_pro_id)\n",
    "    # 解释图像并获取 CAM\n",
    "    cams = CAMmethod(max_pro_id, layers)\n",
    "    # 展开成32*32\n",
    "    # print(cams)\n",
    "    cams = torch.nn.functional.interpolate(cams[0].unsqueeze(0), size=(32, 32), mode='bilinear', align_corners=False)\n",
    "\n",
    "\n",
    "    # 每张图固定比例取前景\n",
    "    # 将 CAM 张量展平为一维数组\n",
    "    flat_cams = cams.view(-1)\n",
    "    # 对展平后的数组进行排序\n",
    "    sorted_cams, indices = torch.sort(flat_cams, descending=True)\n",
    "    # 计算阈值索引\n",
    "    threshold_index = int(len(sorted_cams) * 0.3)\n",
    "    # 设置阈值\n",
    "    threshold = sorted_cams[threshold_index]\n",
    "    binary_cams = (cams >= threshold).to(dtype=torch.float32)\n",
    "\n",
    "    # 在 binary_cams 上添加额外的维度以匹配 imgs 的通道数，并复制到三个通道\n",
    "    expanded_binary_cams = binary_cams.repeat(1, 3, 1, 1)\n",
    "\n",
    "    # 得到扣掉前景的背景图\n",
    "    masked_random_image_tensor = random_image_tensor * (1 - expanded_binary_cams)\n",
    "     # 将 masked_random_image_tensor 添加到列表中\n",
    "    masked_tensors.append(masked_random_image_tensor)\n",
    "    # if i%1000 == 0 :\n",
    "    #     print(i)\n",
    "\n",
    "\n",
    "# 将列表转换为 PyTorch tensor\n",
    "masked_tensors_tensor = torch.stack(masked_tensors).squeeze(1)\n",
    "print(masked_tensors_tensor.shape)\n",
    "# 保存 tensor 到 .pt 文件\n",
    "torch.save(masked_tensors_tensor, './static/data/' + dataset_type + f'/background/background_remove_fore.pt')\n",
    "\n",
    "\n",
    "\n"
   ],
   "metadata": {
    "collapsed": false
   }
  },
  {
   "cell_type": "code",
   "execution_count": 4,
   "outputs": [
    {
     "name": "stdout",
     "output_type": "stream",
     "text": [
      "torch.Size([1, 3, 32, 32])\n"
     ]
    },
    {
     "data": {
      "text/plain": "<Figure size 640x480 with 1 Axes>",
      "image/png": "[encoded data removed]"
     },
     "metadata": {},
     "output_type": "display_data"
    }
   ],
   "source": [
    "from matplotlib import pyplot as plt\n",
    "import torch\n",
    "# 读取 .pt 文件\n",
    "dataset_type = 'CIFAR10'\n",
    "loaded_tensor = torch.load('./static/data/' + dataset_type + f'/background/background_remove_fore.pt')\n",
    "\n",
    "# 假设你想要取出第一个 tensor\n",
    "first_tensor = loaded_tensor[1]\n",
    "# 使用 unsqueeze() 方法在第一个维度上添加一个维度\n",
    "reshaped_tensor = first_tensor.unsqueeze(0)\n",
    "\n",
    "# 打印调整后的 tensor 形状\n",
    "print(reshaped_tensor.shape)  # 应该是 [1, 3, 32, 32]\n",
    "\n",
    "image_array = reshaped_tensor.squeeze(0).permute(1, 2, 0).cpu().numpy()\n",
    "\n",
    "# 绘制图像\n",
    "plt.imshow(image_array)\n",
    "plt.axis('off')  # 关闭坐标轴\n",
    "plt.show()"
   ],
   "metadata": {
    "collapsed": false
   }
  },
  {
   "cell_type": "code",
   "execution_count": 3,
   "outputs": [
    {
     "name": "stdout",
     "output_type": "stream",
     "text": [
      "torch.Size([50000])\n"
     ]
    }
   ],
   "source": [
    "# import torch\n",
    "# data_z_path = \"./static/data/CIFAR10/labels/BigGAN_random_png_208z_50000_2023-08-30_labels.pt\"\n",
    "# dict_zs = torch.load(data_z_path, map_location=\"cpu\")  # 因为我之前保存数据到了GPU上，所以要回到cpu上才不会出错\n",
    "# print(dict_zs.shape)"
   ],
   "metadata": {
    "collapsed": false
   }
  },
  {
   "cell_type": "code",
   "execution_count": 17,
   "outputs": [
    {
     "name": "stdout",
     "output_type": "stream",
     "text": [
      "tensor([[1., 1., 1.,  ..., 0., 0., 0.],\n",
      "        [1., 1., 1.,  ..., 0., 0., 0.],\n",
      "        [1., 1., 1.,  ..., 0., 0., 0.],\n",
      "        ...,\n",
      "        [0., 0., 0.,  ..., 0., 0., 0.],\n",
      "        [0., 0., 0.,  ..., 0., 0., 0.],\n",
      "        [0., 0., 0.,  ..., 0., 0., 0.]])\n",
      "torch.Size([1, 3, 32, 32])\n"
     ]
    }
   ],
   "source": [
    "import torch\n",
    "\n",
    "# 创建一个全零的 32x32 的 tensor\n",
    "mask = torch.zeros(32, 32)\n",
    "\n",
    "# 将一个 8x8 的方块设置为 1\n",
    "mask[0:8, 0:8] = 1\n",
    "\n",
    "# 打印掩码\n",
    "print(mask)\n",
    "mask_tensor = mask.unsqueeze(0).unsqueeze(0)\n",
    "expanded_mask_tensor = mask.repeat(1, 3, 1, 1)\n",
    "print(expanded_mask_tensor.shape)"
   ],
   "metadata": {
    "collapsed": false
   }
  },
  {
   "cell_type": "code",
   "execution_count": null,
   "outputs": [],
   "source": [
    "\n"
   ],
   "metadata": {
    "collapsed": false
   }
  }
 ],
 "metadata": {
  "kernelspec": {
   "display_name": "Python 3",
   "language": "python",
   "name": "python3"
  },
  "language_info": {
   "codemirror_mode": {
    "name": "ipython",
    "version": 2
   },
   "file_extension": ".py",
   "mimetype": "text/x-python",
   "name": "python",
   "nbconvert_exporter": "python",
   "pygments_lexer": "ipython2",
   "version": "2.7.6"
  }
 },
 "nbformat": 4,
 "nbformat_minor": 0
}
