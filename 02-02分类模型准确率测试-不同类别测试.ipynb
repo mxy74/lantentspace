{
 "cells": [
  {
   "cell_type": "code",
   "execution_count": 1,
   "metadata": {},
   "outputs": [],
   "source": [
    "import torch\n",
    "from torch.utils.data import DataLoader\n",
    "import torch.optim as optim\n",
    "from torchvision import datasets\n",
    "import torchvision.transforms as transforms\n",
    "from tqdm import tqdm\n",
    "\n",
    "import model_files as model_all #模型的连接在__init__.py中体现"
   ]
  },
  {
   "cell_type": "markdown",
   "metadata": {},
   "source": [
    "#### 全局参数"
   ]
  },
  {
   "cell_type": "code",
   "execution_count": 2,
   "metadata": {},
   "outputs": [],
   "source": [
    "device = torch.device(\"cuda:1\")\n",
    "dataset_type = \"CIFAR10\"\n",
    "# model_name = \"AlexNet\" #要被测试的模型\n",
    "# model_name = \"MobileNetV2_x1_4\" #要被测试的模型\n",
    "model_name = \"ResNet56\""
   ]
  },
  {
   "cell_type": "code",
   "execution_count": 3,
   "metadata": {},
   "outputs": [
    {
     "name": "stdout",
     "output_type": "stream",
     "text": [
      "Files already downloaded and verified\n",
      "Files already downloaded and verified\n"
     ]
    }
   ],
   "source": [
    "# 不同的transform\n",
    "if dataset_type == \"MNIST\":\n",
    "\ttransform = transforms.Compose([transforms.ToTensor(),transforms.Resize([32,32]), transforms.Normalize([0.5], [0.5])])\n",
    "\ttrain_dataloader = DataLoader(datasets.MNIST('./static/data/MNIST/MNIST', train=True, download=True, transform=transform), batch_size=128, shuffle=True)\n",
    "\ttest_dataloader = DataLoader(datasets.MNIST('./static/data/MNIST/MNIST', train=False, download=True, transform=transform), batch_size=256, shuffle=True)\n",
    "elif dataset_type == \"CIFAR10\":\n",
    "\ttransform = transforms.Compose([transforms.ToTensor(), transforms.Normalize([0.4914,0.4822,0.4465], [0.2023,0.1994,0.2010])]) #CIFAR10数据集的均值和方差，多处网络验证\n",
    "\ttrain_dataloader = DataLoader(datasets.CIFAR10('./static/data/CIFAR10/CIFAR10', train=True, download=True, transform=transform), batch_size=100, shuffle=True)\n",
    "\ttest_dataloader = DataLoader(datasets.CIFAR10('./static/data/CIFAR10/CIFAR10', train=False, download=True, transform=transform), batch_size=100, shuffle=True)"
   ]
  },
  {
   "cell_type": "markdown",
   "metadata": {},
   "source": [
    "#### 加载模型"
   ]
  },
  {
   "cell_type": "code",
   "execution_count": 4,
   "metadata": {},
   "outputs": [
    {
     "data": {
      "text/plain": [
       "<All keys matched successfully>"
      ]
     },
     "execution_count": 4,
     "metadata": {},
     "output_type": "execute_result"
    }
   ],
   "source": [
    "model = model_all.get_DNN_model(dataset_type, model_name)\n",
    "model.eval() #!!!!!!!!!!要注意这个地方\n",
    "model = model.to(device)\n",
    "model.load_state_dict(torch.load(\"./model_files/\" + dataset_type + \"/checkpoints/classify_model/\" + model_name + \".pt\"))"
   ]
  },
  {
   "cell_type": "code",
   "execution_count": 5,
   "metadata": {},
   "outputs": [
    {
     "name": "stdout",
     "output_type": "stream",
     "text": [
      "Accuracy of plane : 94 %, total=1000\n",
      "Accuracy of   car : 97 %, total=1000\n",
      "Accuracy of  bird : 92 %, total=1000\n",
      "Accuracy of   cat : 88 %, total=1000\n",
      "Accuracy of  deer : 96 %, total=1000\n",
      "Accuracy of   dog : 90 %, total=1000\n",
      "Accuracy of  frog : 96 %, total=1000\n",
      "Accuracy of horse : 96 %, total=1000\n",
      "Accuracy of  ship : 96 %, total=1000\n",
      "Accuracy of truck : 95 %, total=1000\n"
     ]
    }
   ],
   "source": [
    "# 测试模型\n",
    "class_correct = list(0. for i in range(10))\n",
    "class_total = list(0. for i in range(10))\n",
    "cifar10_classes = ['plane', 'car', 'bird', 'cat', 'deer', 'dog', 'frog', 'horse', 'ship', 'truck']\n",
    "\n",
    "with torch.no_grad():\n",
    "    for data in test_dataloader:\n",
    "        images, labels = data\n",
    "        images, labels = images.to(device), labels.to(device)\n",
    "        outputs = model(images)\n",
    "        _, predicted = torch.max(outputs, 1)\n",
    "        c = (predicted == labels).squeeze()\n",
    "        for i in range(100):\n",
    "            label = labels[i]\n",
    "            class_correct[label] += c[i].item()\n",
    "            class_total[label] += 1\n",
    "\n",
    "for i in range(10):\n",
    "    print('Accuracy of %5s : %2d %%, total=%2d' % (cifar10_classes[i], 100 * class_correct[i] / class_total[i], class_total[i]))"
   ]
  },
  {
   "cell_type": "markdown",
   "metadata": {},
   "source": [
    "#### 使用生成数据集进行测试"
   ]
  },
  {
   "cell_type": "code",
   "execution_count": 6,
   "metadata": {},
   "outputs": [
    {
     "name": "stderr",
     "output_type": "stream",
     "text": [
      "100%|██████████| 10/10 [01:50<00:00, 11.04s/it]"
     ]
    },
    {
     "name": "stdout",
     "output_type": "stream",
     "text": [
      "Accuracy of plane : 79 %, total=1000\n",
      "Accuracy of   car : 87 %, total=1000\n",
      "Accuracy of  bird : 75 %, total=1000\n",
      "Accuracy of   cat : 88 %, total=1000\n",
      "Accuracy of  deer : 85 %, total=1000\n",
      "Accuracy of   dog : 47 %, total=1000\n",
      "Accuracy of  frog : 94 %, total=1000\n",
      "Accuracy of horse : 68 %, total=1000\n",
      "Accuracy of  ship : 95 %, total=1000\n",
      "Accuracy of truck : 70 %, total=1000\n"
     ]
    },
    {
     "name": "stderr",
     "output_type": "stream",
     "text": [
      "\n"
     ]
    }
   ],
   "source": [
    "model_files_dir = \"./model_files/\" # 模型位置\n",
    "sys.path.append(model_files_dir)\n",
    "import numpy as np\n",
    "from CIFAR10.models import BigGAN\n",
    "\n",
    "number = 100\n",
    "class_correct = list(0. for i in range(10))\n",
    "class_total = list(0. for i in range(10))\n",
    "cifar10_classes = ['plane', 'car', 'bird', 'cat', 'deer', 'dog', 'frog', 'horse', 'ship', 'truck']\n",
    "checkpoints_path = \"./model_files/CIFAR10/checkpoints/BigGAN/model=G-best-weights-step=162000.pth\"\n",
    "G = BigGAN.Generator().to(device)\n",
    "G.load_state_dict(torch.load(checkpoints_path, map_location=device)[\"state_dict\"])\n",
    "G.eval()\n",
    "\n",
    "for class_type in tqdm(range(10)):\n",
    "    for i in range(10): # 分10次，每次只生成100张，总计1000张\n",
    "        for num in range(number):\n",
    "            z = torch.tensor(np.random.RandomState(num).randn(1, 80)).to(torch.float32).to(device)    # latent code\n",
    "            label = torch.tensor(class_type).unsqueeze(0).to(device)\n",
    "            shared_label = G.shared(label)\n",
    "            z_and_shared_label = torch.cat((z, shared_label), dim = 1)\n",
    "            if num == 0:\n",
    "                z_and_shared_labels = z_and_shared_label\n",
    "            else:\n",
    "                z_and_shared_labels = torch.cat((z_and_shared_labels, z_and_shared_label))\n",
    "            img = G(z = z_and_shared_label)                           # NCHW, float32, dynamic range [-1, +1]\n",
    "            # img = ((img + 1)/2).clamp(0.0, 1.0) # 变换到[0,1]范围内\n",
    "            if num == 0:\n",
    "                imgs = img\n",
    "                labels = label\n",
    "            else:\n",
    "                imgs = torch.cat((imgs, img))\n",
    "                labels = torch.cat((labels, label))\n",
    "        \n",
    "        with torch.no_grad():\n",
    "            images, labels = imgs.to(device), labels.to(device)\n",
    "            outputs = model(images)\n",
    "            _, predicted = torch.max(outputs, 1)\n",
    "            c = (predicted == labels).squeeze()\n",
    "            for i in range(number):\n",
    "                label = labels[i]\n",
    "                class_correct[label] += c[i].item()\n",
    "                class_total[label] += 1\n",
    "\n",
    "for i in range(10):\n",
    "    print('Accuracy of %5s : %2d %%, total=%2d' % (cifar10_classes[i], 100 * class_correct[i] / class_total[i], class_total[i]))"
   ]
  },
  {
   "cell_type": "code",
   "execution_count": 7,
   "metadata": {},
   "outputs": [
    {
     "data": {
      "text/plain": [
       "7880.0"
      ]
     },
     "execution_count": 7,
     "metadata": {},
     "output_type": "execute_result"
    }
   ],
   "source": [
    "np.sum(class_correct)"
   ]
  }
 ],
 "metadata": {
  "kernelspec": {
   "display_name": "Python 3.7.13 ('python3_7')",
   "language": "python",
   "name": "python3"
  },
  "language_info": {
   "codemirror_mode": {
    "name": "ipython",
    "version": 3
   },
   "file_extension": ".py",
   "mimetype": "text/x-python",
   "name": "python",
   "nbconvert_exporter": "python",
   "pygments_lexer": "ipython3",
   "version": "3.7.13"
  },
  "orig_nbformat": 4,
  "vscode": {
   "interpreter": {
    "hash": "b3772b2eda997016c1540bbd3537497480586e8c2c36534a823810c48e399899"
   }
  }
 },
 "nbformat": 4,
 "nbformat_minor": 2
}
