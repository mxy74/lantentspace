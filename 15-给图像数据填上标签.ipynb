{
 "cells": [
  {
   "cell_type": "code",
   "execution_count": 5,
   "metadata": {},
   "outputs": [
    {
     "name": "stdout",
     "output_type": "stream",
     "text": [
      "Files already downloaded and verified\n",
      "['pic_0.png', 'pic_1.png', 'pic_2.png', 'pic_3.png', 'pic_4.png', 'pic_5.png', 'pic_6.png', 'pic_7.png', 'pic_8.png', 'pic_9.png', 'pic_10.png', 'pic_11.png', 'pic_12.png', 'pic_13.png', 'pic_14.png', 'pic_15.png', 'pic_16.png', 'pic_17.png', 'pic_18.png', 'pic_19.png', 'pic_20.png', 'pic_21.png', 'pic_22.png', 'pic_23.png', 'pic_24.png', 'pic_25.png', 'pic_26.png', 'pic_27.png', 'pic_28.png', 'pic_29.png', 'pic_30.png', 'pic_31.png', 'pic_32.png', 'pic_33.png', 'pic_34.png', 'pic_35.png', 'pic_36.png', 'pic_37.png', 'pic_38.png', 'pic_39.png', 'pic_40.png', 'pic_41.png', 'pic_42.png', 'pic_43.png', 'pic_44.png', 'pic_45.png', 'pic_46.png', 'pic_47.png', 'pic_48.png', 'pic_49.png', 'pic_50.png', 'pic_51.png', 'pic_52.png', 'pic_53.png', 'pic_54.png', 'pic_55.png', 'pic_56.png', 'pic_57.png', 'pic_58.png', 'pic_59.png', 'pic_60.png', 'pic_61.png', 'pic_62.png', 'pic_63.png', 'pic_64.png', 'pic_65.png', 'pic_66.png', 'pic_67.png', 'pic_68.png', 'pic_69.png', 'pic_70.png', 'pic_71.png', 'pic_72.png', 'pic_73.png', 'pic_74.png', 'pic_75.png', 'pic_76.png', 'pic_77.png', 'pic_78.png', 'pic_79.png', 'pic_80.png', 'pic_81.png', 'pic_82.png', 'pic_83.png', 'pic_84.png', 'pic_85.png', 'pic_86.png', 'pic_87.png', 'pic_88.png', 'pic_89.png', 'pic_90.png', 'pic_91.png', 'pic_92.png', 'pic_93.png', 'pic_94.png', 'pic_95.png', 'pic_96.png', 'pic_97.png', 'pic_98.png', 'pic_99.png']\n"
     ]
    },
    {
     "name": "stderr",
     "output_type": "stream",
     "text": [
      "100%|██████████| 391/391 [01:48<00:00,  3.62it/s]\n"
     ]
    },
    {
     "name": "stdout",
     "output_type": "stream",
     "text": [
      "(50000, 2048)\n",
      "(50000,)\n",
      "(50000,)\n"
     ]
    }
   ],
   "source": [
    "\n",
    "\n",
    "\n",
    "import pickle\n",
    "import os\n",
    "import numpy as np\n",
    "from tqdm import tqdm\n",
    "from PIL import Image  \n",
    "from openTSNE import TSNE\n",
    "import matplotlib.pyplot as plt\n",
    "import copy\n",
    "import pandas as pd\n",
    "import seaborn as sns\n",
    "import random\n",
    "\n",
    "import torch\n",
    "import torch.nn as nn\n",
    "import torchvision\n",
    "import torchvision.utils as utils\n",
    "from torch.utils.data import DataLoader\n",
    "from torchvision import datasets\n",
    "import torchvision.transforms as transforms\n",
    "from torch.utils.data import Dataset\n",
    "\n",
    "import h5py\n",
    "\n",
    "\n",
    "\n",
    "device = torch.device(\"cuda:1\") \n",
    "dataset_type = \"CIFAR10\"\n",
    "model_name = \"null\"\n",
    "save_origin_pic = False # 是否保留原始图片\n",
    "save_generate_pic = False # 是否保留生成图片\n",
    "fid_judge = False # 是否进行fid评估\n",
    "\n",
    "\n",
    "\n",
    "import sys\n",
    "python_files_dir = \"./python_files/\" # python工具包位置\n",
    "sys.path.append(python_files_dir)\n",
    "import my_tools\n",
    "import fid_score as official_fid\n",
    "\n",
    "model_files_dir = \"./model_files/\" # 模型位置\n",
    "sys.path.append(model_files_dir)\n",
    "import model_files as all_model\n",
    "\n",
    "\n",
    "if dataset_type == \"CIFAR10\":\n",
    "    transform = transforms.Compose([\n",
    "        transforms.PILToTensor(),\n",
    "        transforms.ConvertImageDtype(torch.float),\n",
    "        transforms.Resize((224, 224), interpolation=Image.BICUBIC),\n",
    "        transforms.Normalize((0.485, 0.456, 0.406), (0.229, 0.224, 0.225)),\n",
    "    ])\n",
    "\n",
    "if dataset_type == \"CIFAR10\":\n",
    "    ResNet50 = torch.load(\"./model_files/CIFAR10/checkpoints/classify_model/ResNet50.pt\", map_location=device) # 这个pt文件里不仅仅是参数，包括了模型\n",
    "    ResNet50 = ResNet50.to(device)\n",
    "    ResNet50.eval()\n",
    "    train_dataloader = DataLoader(datasets.CIFAR10('./static/data/CIFAR10/CIFAR10/', train=False, download=True, transform=transform), batch_size=128, shuffle=False)\n",
    "\n",
    "class Mydata_sets(Dataset):\n",
    "    \n",
    "    def __init__(self, path, transform=None):\n",
    "        super(Mydata_sets, self).__init__()\n",
    "        self.root_dir = path\n",
    "        self.img_names = os.listdir(self.root_dir)\n",
    "        self.img_names.sort(key = lambda x:int(x[4:-4]))\n",
    "        print(self.img_names[:100])\n",
    "        self.transform = transform\n",
    "\n",
    "    def __getitem__(self, index):\n",
    "        img_name = self.img_names[index]\n",
    "        img = Image.open(os.path.join(self.root_dir, img_name))\n",
    "        id_name = torch.tensor(int(img_name[4:-4])) #pic_xx.jpg\n",
    "        if self.transform is not None:\n",
    "            img = self.transform(img)\n",
    "        return img, id_name\n",
    "\n",
    "    def __len__(self):\n",
    "        return len(self.img_names)\n",
    "\n",
    "if dataset_type == \"CIFAR10\":\n",
    "    transform = transforms.Compose([\n",
    "        transforms.PILToTensor(),\n",
    "        transforms.ConvertImageDtype(torch.float),\n",
    "        transforms.Resize((224, 224), interpolation=Image.BICUBIC),\n",
    "        transforms.Normalize((0.485, 0.456, 0.406), (0.229, 0.224, 0.225)),\n",
    "    ])\n",
    "\n",
    "index = 0\n",
    "\n",
    "# with torch.no_grad():\n",
    "#     train_dataloader = tqdm(train_dataloader)\n",
    "#     total = 0\n",
    "#     correct = 0\n",
    "#     for inputs, labels in train_dataloader:\n",
    "#             inputs,labels = inputs.to(device), labels.to(device)\n",
    "#             # ============= forward =============\n",
    "#             outputs = ResNet50(inputs)\n",
    "#             # ============= precision ===========\n",
    "#             _, predicted = torch.max(outputs.data, 1)\n",
    "#             total += labels.size(0)\n",
    "#             correct += (predicted == labels).sum().item()\n",
    "#             #break\n",
    "#             description = 'correct: %.4f, total: %.4f , accuracy: %.4f' % (correct, total, correct/total)\n",
    "#             train_dataloader.set_description(description)\n",
    "#             train_dataloader.update()\n",
    "# print(\"最终结果： \", description)\n",
    "\n",
    "features, labels, ids = [], [], [] # features：提取的2048维图片特征，labels：模型预测的标签，ids图片文件编号\n",
    "\n",
    "feature_model = copy.deepcopy(ResNet50)\n",
    "feature_model.fc = nn.Identity() # 相当于取消fc层, 这样\n",
    "label_model = copy.deepcopy(ResNet50)\n",
    "\n",
    "# 图片路径\n",
    "if dataset_type == \"CIFAR10\":\n",
    "    pic_path = \"./static/data/CIFAR10/pic/random_50k_png\"   \n",
    "\n",
    "img_datasets = Mydata_sets(pic_path, transform=transform)  \n",
    "# img_datasets = torchvision.datasets.CIFAR10(\"./static/data/CIFAR10/\", train=True, download=False, transform=transform) #使用原始的cifar10图片\n",
    "imgLoader = torch.utils.data.DataLoader(img_datasets, batch_size=128, shuffle=False, num_workers=4)  # 指定读取配置信息\n",
    "\n",
    "with torch.no_grad():\n",
    "    for x, y in tqdm(imgLoader):\n",
    "        x = x.to(device)\n",
    "        ids.append(y)  # N\n",
    "        feature = feature_model(x)  # N, 2048\n",
    "        features.append(feature)\n",
    "\n",
    "        ten_D = label_model(x)\n",
    "        label = torch.argmax(ten_D, dim=1)\n",
    "        labels.append(label)\n",
    "\n",
    "features = torch.cat(features, dim=0).squeeze().cpu().numpy()  # (n, 2048)\n",
    "labels = torch.cat(labels, dim=0).squeeze().cpu().numpy()  # n\n",
    "ids = torch.cat(ids, dim=0).cpu().numpy() # n\n",
    "\n",
    "print(features.shape)\n",
    "print(labels.shape)\n",
    "print(ids.shape)"
   ]
  },
  {
   "cell_type": "code",
   "execution_count": 6,
   "metadata": {},
   "outputs": [],
   "source": [
    "torch.save(labels, \"./临时垃圾-随时可删/labels.pt\")"
   ]
  },
  {
   "cell_type": "code",
   "execution_count": 7,
   "metadata": {},
   "outputs": [
    {
     "name": "stdout",
     "output_type": "stream",
     "text": [
      "[1 9 5 2 8 2 7 3 7 3]\n"
     ]
    }
   ],
   "source": []
  }
 ],
 "metadata": {
  "kernelspec": {
   "display_name": "Python 3.6.9 64-bit",
   "language": "python",
   "name": "python3"
  },
  "language_info": {
   "codemirror_mode": {
    "name": "ipython",
    "version": 3
   },
   "file_extension": ".py",
   "mimetype": "text/x-python",
   "name": "python",
   "nbconvert_exporter": "python",
   "pygments_lexer": "ipython3",
   "version": "3.6.9"
  },
  "orig_nbformat": 4,
  "vscode": {
   "interpreter": {
    "hash": "31f2aee4e71d21fbe5cf8b01ff0e069b9275f58929596ceb00d14d90e3e16cd6"
   }
  }
 },
 "nbformat": 4,
 "nbformat_minor": 2
}
